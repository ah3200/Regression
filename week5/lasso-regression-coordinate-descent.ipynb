{
 "cells": [
  {
   "cell_type": "code",
   "execution_count": 1,
   "metadata": {
    "collapsed": true
   },
   "outputs": [],
   "source": [
    "import pandas as pd\n",
    "import numpy as np\n",
    "import math"
   ]
  },
  {
   "cell_type": "code",
   "execution_count": 2,
   "metadata": {
    "collapsed": true
   },
   "outputs": [],
   "source": [
    "dtype_dict = {'bathrooms':float, 'waterfront':int, 'sqft_above':int, 'sqft_living15':float, 'grade':int, 'yr_renovated':int, 'price':float, 'bedrooms':float, 'zipcode':str, 'long':float, 'sqft_lot15':float, 'sqft_living':float, 'floors':float, 'condition':int, 'lat':float, 'date':str, 'sqft_basement':int, 'yr_built':int, 'id':str, 'sqft_lot':int, 'view':int}"
   ]
  },
  {
   "cell_type": "code",
   "execution_count": 3,
   "metadata": {
    "collapsed": true
   },
   "outputs": [],
   "source": [
    "sales = pd.read_csv('kc_house_data.csv', dtype=dtype_dict)"
   ]
  },
  {
   "cell_type": "code",
   "execution_count": 4,
   "metadata": {
    "collapsed": true
   },
   "outputs": [],
   "source": [
    "def predict_output(feature_matrix, weights):\n",
    "    # assume feature_matrix is a numpy matrix containing the features as columns and weights is a corresponding numpy array\n",
    "    # create the predictions vector by using np.dot()\n",
    "    predictions = np.dot(feature_matrix, weights)\n",
    "    return(predictions)"
   ]
  },
  {
   "cell_type": "code",
   "execution_count": 5,
   "metadata": {
    "collapsed": true
   },
   "outputs": [],
   "source": [
    "def normalize_features(features):\n",
    "    norms = np.linalg.norm(features, axis=0)\n",
    "    normalized_features = features / norms\n",
    "    return (normalized_features, norms)"
   ]
  },
  {
   "cell_type": "code",
   "execution_count": 6,
   "metadata": {
    "collapsed": false
   },
   "outputs": [
    {
     "name": "stdout",
     "output_type": "stream",
     "text": [
      "[[ 0.6  0.6  0.6]\n",
      " [ 0.8  0.8  0.8]]\n",
      "[  5.  10.  15.]\n"
     ]
    }
   ],
   "source": [
    "features, norms = normalize_features(np.array([[3.,6.,9.],[4.,8.,12.]]))\n",
    "print features\n",
    "# should print\n",
    "# [[ 0.6  0.6  0.6]\n",
    "#  [ 0.8  0.8  0.8]]\n",
    "print norms\n",
    "# should print\n",
    "# [5.  10.  15.]"
   ]
  },
  {
   "cell_type": "markdown",
   "metadata": {
    "collapsed": true
   },
   "source": [
    "Review of Coordinate Descent\n",
    "\n",
    "7. We seek to obtain a sparse set of weights by minimizing the LASSO cost function\n",
    "\n",
    "SUM[ (prediction - output)^2 ] + lambda*( |w[1]| + ... + |w[k]|).\n",
    "\n",
    "(By convention, we do not include w[0] in the L1 penalty term. We never want to push the intercept to zero.)\n",
    "\n",
    "The absolute value sign makes the cost function non-differentiable, so simple gradient descent is not viable (you would need to implement a method called subgradient descent). Instead, we will use coordinate descent: at each iteration, we will fix all weights but weight i and find the value of weight i that minimizes the objective. That is, we look for\n",
    "\n",
    "argmin_{w[i]} [ SUM[ (prediction - output)^2 ] + lambda*( |w[1]| + ... + |w[k]|) ]\n",
    "\n",
    "where all weights other than w[i] are held to be constant. We will optimize one w[i] at a time, circling through the weights multiple times.\n",
    "\n",
    "    Pick a coordinate i\n",
    "    Compute w[i] that minimizes the LASSO cost function\n",
    "    Repeat the two steps for all coordinates, multiple times\n",
    "    \n",
    "       ┌ (ro[i] + lambda/2)    if ro[i] < -lambda/2\n",
    "w[i] = ├ 0                     if -lambda/2 <= ro[i] <= lambda/2\n",
    "       └ (ro[i] - lambda/2)    if ro[i] > lambda/2\n",
    "       \n",
    "where\n",
    "\n",
    "ro[i] = SUM[ [feature_i]*(output - prediction + w[i]*[feature_i]) ]."
   ]
  },
  {
   "cell_type": "code",
   "execution_count": 7,
   "metadata": {
    "collapsed": true
   },
   "outputs": [],
   "source": [
    "df_train = pd.read_csv('kc_house_train_data.csv', dtype=dtype_dict)\n",
    "df_test = pd.read_csv('kc_house_test_data.csv', dtype=dtype_dict)"
   ]
  },
  {
   "cell_type": "code",
   "execution_count": 8,
   "metadata": {
    "collapsed": false
   },
   "outputs": [
    {
     "name": "stdout",
     "output_type": "stream",
     "text": [
      "(17384, 21) (4229, 21)\n"
     ]
    }
   ],
   "source": [
    "print df_train.shape, df_test.shape"
   ]
  },
  {
   "cell_type": "code",
   "execution_count": 9,
   "metadata": {
    "collapsed": true
   },
   "outputs": [],
   "source": [
    "sales['constant'] = 1"
   ]
  },
  {
   "cell_type": "code",
   "execution_count": 10,
   "metadata": {
    "collapsed": true
   },
   "outputs": [],
   "source": [
    "simple_features = sales[['constant','sqft_living','bedrooms']].values\n",
    "simple_output = sales['price'].values"
   ]
  },
  {
   "cell_type": "code",
   "execution_count": 11,
   "metadata": {
    "collapsed": true
   },
   "outputs": [],
   "source": [
    "weights = np.array([1., 4., 1.])"
   ]
  },
  {
   "cell_type": "code",
   "execution_count": 34,
   "metadata": {
    "collapsed": false
   },
   "outputs": [],
   "source": [
    "simple_feature_matrix, norms = normalize_features(simple_features)"
   ]
  },
  {
   "cell_type": "code",
   "execution_count": 35,
   "metadata": {
    "collapsed": false
   },
   "outputs": [
    {
     "data": {
      "text/plain": [
       "(array([[  1.00000000e+00,   1.18000000e+03,   3.00000000e+00],\n",
       "        [  1.00000000e+00,   2.57000000e+03,   3.00000000e+00],\n",
       "        [  1.00000000e+00,   7.70000000e+02,   2.00000000e+00],\n",
       "        ..., \n",
       "        [  1.00000000e+00,   1.02000000e+03,   2.00000000e+00],\n",
       "        [  1.00000000e+00,   1.60000000e+03,   3.00000000e+00],\n",
       "        [  1.00000000e+00,   1.02000000e+03,   2.00000000e+00]]),\n",
       " array([[ 0.00680209,  0.00353021,  0.00583571],\n",
       "        [ 0.00680209,  0.00768869,  0.00583571],\n",
       "        [ 0.00680209,  0.00230361,  0.00389048],\n",
       "        ..., \n",
       "        [ 0.00680209,  0.00305154,  0.00389048],\n",
       "        [ 0.00680209,  0.00478673,  0.00583571],\n",
       "        [ 0.00680209,  0.00305154,  0.00389048]]),\n",
       " array([  1.47013605e+02,   3.34257264e+05,   5.14075870e+02]))"
      ]
     },
     "execution_count": 35,
     "metadata": {},
     "output_type": "execute_result"
    }
   ],
   "source": [
    "simple_features, simple_feature_matrix, norms"
   ]
  },
  {
   "cell_type": "code",
   "execution_count": 14,
   "metadata": {
    "collapsed": true
   },
   "outputs": [],
   "source": [
    "prediction = predict_output(simple_feature_matrix, weights)"
   ]
  },
  {
   "cell_type": "code",
   "execution_count": 15,
   "metadata": {
    "collapsed": false
   },
   "outputs": [
    {
     "data": {
      "text/plain": [
       "((21613,), array([ 1.,  4.,  1.]))"
      ]
     },
     "execution_count": 15,
     "metadata": {},
     "output_type": "execute_result"
    }
   ],
   "source": [
    "prediction.shape, weights"
   ]
  },
  {
   "cell_type": "code",
   "execution_count": 16,
   "metadata": {
    "collapsed": false
   },
   "outputs": [
    {
     "data": {
      "text/plain": [
       "array([ 0.02675867,  0.04339256,  0.01990703, ...,  0.02289873,\n",
       "        0.03178473,  0.02289873])"
      ]
     },
     "execution_count": 16,
     "metadata": {},
     "output_type": "execute_result"
    }
   ],
   "source": [
    "prediction"
   ]
  },
  {
   "cell_type": "code",
   "execution_count": 17,
   "metadata": {
    "collapsed": false
   },
   "outputs": [
    {
     "data": {
      "text/plain": [
       "[0, 1, 2]"
      ]
     },
     "execution_count": 17,
     "metadata": {},
     "output_type": "execute_result"
    }
   ],
   "source": [
    "range(simple_feature_matrix.shape[1])"
   ]
  },
  {
   "cell_type": "code",
   "execution_count": 18,
   "metadata": {
    "collapsed": false
   },
   "outputs": [],
   "source": [
    "ro = np.array([0., 0., 0.])\n",
    "for i in range(simple_feature_matrix.shape[1]):\n",
    "    ro[i] = np.dot(simple_feature_matrix[:,i], (simple_output - prediction + (weights[i] * simple_feature_matrix[:,i])))\n",
    "#    ro[i] = sum(simple_feature_matrix[:,i] * (simple_output - prediction + (weights[i] * simple_feature_matrix[:,i])))\n",
    "#    ro[i] = SUM[ [feature_i]*(output - prediction + w[i]*[feature_i])]"
   ]
  },
  {
   "cell_type": "code",
   "execution_count": 19,
   "metadata": {
    "collapsed": false
   },
   "outputs": [
    {
     "data": {
      "text/plain": [
       "array([ 79400300.01452321,  87939470.82325152,  80966698.66623905])"
      ]
     },
     "execution_count": 19,
     "metadata": {},
     "output_type": "execute_result"
    }
   ],
   "source": [
    "ro"
   ]
  },
  {
   "cell_type": "code",
   "execution_count": 20,
   "metadata": {
    "collapsed": true
   },
   "outputs": [],
   "source": [
    "def lasso_coordinate_descent_step(i, feature_matrix, output, weights, l1_penalty):\n",
    "    # compute prediction\n",
    "    prediction = predict_output(feature_matrix, weights)\n",
    "    # compute ro[i] = SUM[ [feature_i]*(output - prediction + weight[i]*[feature_i]) ]\n",
    "    ro_i = np.dot(feature_matrix[:,i], (output - (prediction - (weights[i] * feature_matrix[:,i]))))\n",
    "    \n",
    "    if i == 0: # intercept -- do not regularize\n",
    "        new_weight_i = ro_i\n",
    "    elif ro_i < -l1_penalty/2.:\n",
    "        new_weight_i = ro_i + l1_penalty/2\n",
    "    elif ro_i > l1_penalty/2.:\n",
    "        new_weight_i = ro_i - l1_penalty/2\n",
    "    else:\n",
    "        new_weight_i = 0.\n",
    "    \n",
    "    return new_weight_i"
   ]
  },
  {
   "cell_type": "code",
   "execution_count": 21,
   "metadata": {
    "collapsed": false
   },
   "outputs": [
    {
     "name": "stdout",
     "output_type": "stream",
     "text": [
      "0.425558846691\n"
     ]
    }
   ],
   "source": [
    "# should print 0.425558846691\n",
    "import math\n",
    "print lasso_coordinate_descent_step(1, np.array([[3./math.sqrt(13),1./math.sqrt(10)],\n",
    "                   [2./math.sqrt(13),3./math.sqrt(10)]]), np.array([1., 1.]), np.array([1., 4.]), 0.1)"
   ]
  },
  {
   "cell_type": "code",
   "execution_count": 27,
   "metadata": {
    "collapsed": true
   },
   "outputs": [],
   "source": [
    "def lasso_cyclical_coordinate_descent(feature_matrix, output, initial_weights, l1_penalty, tolerance):\n",
    "    converged = False \n",
    "    weights = np.array(initial_weights) # make sure it's a numpy array\n",
    "    coordinate_change = np.zeros(len(weights))\n",
    "    \n",
    "#    for k in range(1,100):\n",
    "    while not converged:\n",
    "        for i in range(len(weights)):\n",
    "            old_weights_i = weights[i] # remember old value of weight[i], as it will be overwritten\n",
    "        # the following line uses new values for weight[0], weight[1], ..., weight[i-1]\n",
    "        #     and old values for weight[i], ..., weight[d-1]\n",
    "            weights[i] = lasso_coordinate_descent_step(i, feature_matrix, output, weights, l1_penalty)\n",
    "        # use old_weights_i to compute change in coordinate\n",
    "            coordinate_change[i] = np.abs(old_weights_i - weights[i])\n",
    "#        print coordinate_change, max(coordinate_change)\n",
    "        if max(coordinate_change) < tolerance:\n",
    "            converged = True\n",
    "    \n",
    "    return weights"
   ]
  },
  {
   "cell_type": "code",
   "execution_count": 23,
   "metadata": {
    "collapsed": false
   },
   "outputs": [
    {
     "data": {
      "text/plain": [
       "(array([[ 0.00680209,  0.00353021,  0.00583571],\n",
       "        [ 0.00680209,  0.00768869,  0.00583571],\n",
       "        [ 0.00680209,  0.00230361,  0.00389048],\n",
       "        ..., \n",
       "        [ 0.00680209,  0.00305154,  0.00389048],\n",
       "        [ 0.00680209,  0.00478673,  0.00583571],\n",
       "        [ 0.00680209,  0.00305154,  0.00389048]]),\n",
       " array([ 221900.,  538000.,  180000., ...,  402101.,  400000.,  325000.]))"
      ]
     },
     "execution_count": 23,
     "metadata": {},
     "output_type": "execute_result"
    }
   ],
   "source": [
    "initial_weights = np.zeros(3)\n",
    "l1_penalty = 1e7\n",
    "tolerance = 1.0\n",
    "simple_feature_matrix, simple_output"
   ]
  },
  {
   "cell_type": "code",
   "execution_count": 24,
   "metadata": {
    "collapsed": false
   },
   "outputs": [
    {
     "name": "stdout",
     "output_type": "stream",
     "text": [
      "[ 79400304.63764513  10305258.70494878    299724.16960754] 79400304.6376\n",
      "[ 9138168.37642823  8642337.05981864   299724.16960754] 9138168.37643\n",
      "[ 8194809.51838306  7213612.49873429        0.        ] 8194809.51838\n",
      "[ 6598905.08191977  6036579.90886382        0.        ] 6598905.08192\n",
      "[ 5522173.23081964  5051601.67703672        0.        ] 5522173.23082\n",
      "[ 4621129.84087856  4227340.62808831        0.        ] 4621129.84088\n",
      "[ 3867108.13182595  3537572.81915549        0.        ] 3867108.13183\n",
      "[ 3236118.83201169  2960353.22246729        0.        ] 3236118.83201\n",
      "[ 2708086.95746362  2477317.54221924        0.        ] 2708086.95746\n",
      "[ 2266213.12438758  2073097.9527741         0.        ] 2266213.12439\n",
      "[ 1896439.07519021  1734834.16984525        0.        ] 1896439.07519\n",
      "[ 1587000.41368857  1451764.29933538        0.        ] 1587000.41369\n",
      "[ 1328052.31973784  1214882.44666699        0.        ] 1328052.31974\n",
      "[ 1111356.33535265  1016652.19340119        0.        ] 1111356.33535\n",
      "[ 930018.25739287  850766.82536867       0.        ] 930018.257393\n",
      "[ 778268.79783734  711948.68397046       0.        ] 778268.797837\n",
      "[ 651280.03334567  595781.25697134       0.        ] 651280.033346\n",
      "[ 545011.80442271  498568.66674564       0.        ] 545011.804423\n",
      "[ 456083.17736076  417218.08558308       0.        ] 456083.177361\n",
      "[ 381664.87951881  349141.33708844       0.        ] 381664.879519\n",
      "[ 319389.28574629  292172.55309955       0.        ] 319389.285746\n",
      "[ 267275.09216555  244499.26638971       0.        ] 267275.092166\n",
      "[ 223664.2808008  204604.7468561       0.       ] 223664.280801\n",
      "[ 187169.36958435  171219.74660315       0.        ] 187169.369584\n",
      "[ 156629.26947935  143282.1187067        0.        ] 156629.269479\n",
      "[ 131072.34432791  119903.02490468       0.        ] 131072.344328\n",
      "[ 109685.49814948  100338.65712574       0.        ] 109685.498149\n",
      "[ 91788.30641863  83966.57316874      0.        ] 91788.3064186\n",
      "[ 76811.36829756  70265.89364141      0.        ] 76811.3682976\n",
      "[ 64278.19108905  58800.7301348       0.        ] 64278.191089\n",
      "[ 53790.03058092  49206.31739244      0.        ] 53790.0305809\n",
      "[ 45013.20495949  41177.40826993      0.        ] 45013.2049595\n",
      "[ 37668.47869094  34458.56226695      0.        ] 37668.4786909\n",
      "[ 31522.17861703  28836.01866759      0.        ] 31522.178617\n",
      "[ 26378.75962449  24130.89571558      0.        ] 26378.7596245\n",
      "[ 22074.58335138  20193.49948174      0.        ] 22074.5833514\n",
      "[ 18472.71202546  16898.56133616      0.        ] 18472.7120255\n",
      "[ 15458.55177243  14141.25250956      0.        ] 15458.5517724\n",
      "[ 12936.20679886  11833.8489626       0.        ] 12936.2067989\n",
      "[ 10825.42846194   9902.94043395      0.        ] 10825.4284619\n",
      "[ 9059.06215058  8287.09488799     0.        ] 9059.06215058\n",
      "[ 7580.91075443  6934.90404652     0.        ] 7580.91075443\n",
      "[ 6343.94674847  5803.34782952     0.        ] 6343.94674847\n",
      "[ 5308.81600457  4856.42566967     0.        ] 5308.81600457\n",
      "[ 4442.58574143  4064.01114994     0.        ] 4442.58574143\n",
      "[ 3717.69676219  3400.89352776     0.        ] 3717.69676219\n",
      "[ 3111.08665581  2845.97565353     0.        ] 3111.08665581\n",
      "[ 2603.4560639   2381.60276122     0.        ] 2603.4560639\n",
      "[ 2178.65467082  1993.00078581     0.        ] 2178.65467082\n",
      "[ 1823.16738191  1667.80631852     0.        ] 1823.16738191\n",
      "[ 1525.68433561  1395.67326632     0.        ] 1525.68433561\n",
      "[ 1276.74107952  1167.94368905     0.        ] 1276.74107952\n",
      "[ 1068.41746021   977.37235105     0.        ] 1068.41746021\n",
      "[ 894.08564367  817.89620678    0.        ] 894.085643671\n",
      "[ 748.19924635  684.44150695    0.        ] 748.199246347\n",
      "[ 626.11687841  572.76237789    0.        ] 626.116878413\n",
      "[ 523.95447734  479.30573866    0.        ] 523.95447734\n",
      "[ 438.46173804  401.09825583    0.        ] 438.461738043\n",
      "[ 366.9186998   335.65175135    0.        ] 366.918699797\n",
      "[ 307.04921405  280.88403982    0.        ] 307.049214046\n",
      "[ 256.94852868  235.05268054    0.        ] 256.948528677\n",
      "[ 215.02268483  196.69954365    0.        ] 215.022684827\n",
      "[ 179.93780768  164.60442153    0.        ] 179.937807679\n",
      "[ 150.57766879  137.74620503    0.        ] 150.57766879\n",
      "[ 126.00817322  115.27039635    0.        ] 126.00817322\n",
      "[ 105.44763851   96.4619264     0.        ] 105.447638512\n",
      "[ 88.24193116  80.72240207   0.        ] 88.241931159\n",
      "[ 73.84364877  67.55106819   0.        ] 73.843648769\n",
      "[ 61.7947095   56.52887805   0.        ] 61.7947094962\n",
      "[ 51.71177411  47.30515955   0.        ] 51.7117741108\n",
      "[ 43.27405415  39.58645885   0.        ] 43.2740541548\n",
      "[ 36.21310198  33.12720539   0.        ] 36.2131019756\n",
      "[ 30.30427318  27.72189735   0.        ] 30.3042731807\n",
      "[ 25.35957804  23.19856349   0.        ] 25.3595780432\n",
      "[ 21.22169968  19.41329324   0.        ] 21.2216996849\n",
      "[ 17.75899091  16.24566065   0.        ] 17.7589909136\n",
      "[ 14.86128802  13.59488495   0.        ] 14.8612880185\n",
      "[ 12.4363978   11.37663078   0.        ] 12.4363978021\n",
      "[ 10.40717233   9.52032612   0.        ] 10.4071723334\n",
      "[ 8.70905204  7.96691102  0.        ] 8.70905204117\n",
      "[ 7.28801149  6.66696404  0.        ] 7.28801148757\n",
      "[ 6.09883925  5.57912681  0.        ] 6.09883925319\n",
      "[ 5.10370195  4.66879091  0.        ] 5.10370194539\n",
      "[ 4.27094018  3.90699232  0.        ] 4.27094018087\n",
      "[ 3.5740582   3.26949492  0.        ] 3.57405820489\n",
      "[ 2.99088528  2.73601688  0.        ] 2.99088528007\n",
      "[ 2.50286745  2.28958608  0.        ] 2.5028674528\n",
      "[ 2.09447929  1.91599818  0.        ] 2.09447928518\n",
      "[ 1.75272631  1.60336839  0.        ] 1.75272630528\n",
      "[ 1.46673765  1.34174933  0.        ] 1.46673765406\n",
      "[ 1.2274122  1.1228186  0.       ] 1.22741219774\n",
      "[ 1.02713774  0.93961027  0.        ] 1.02713774145\n",
      "[ 0.8595415   0.78629547  0.        ] 0.85954150185\n"
     ]
    }
   ],
   "source": [
    "lasso_weights = lasso_cyclical_coordinate_descent(simple_feature_matrix, simple_output, initial_weights, l1_penalty, tolerance)"
   ]
  },
  {
   "cell_type": "code",
   "execution_count": 25,
   "metadata": {
    "collapsed": false
   },
   "outputs": [
    {
     "data": {
      "text/plain": [
       "array([ 21624997.95951869,  63157247.2078898 ,         0.        ])"
      ]
     },
     "execution_count": 25,
     "metadata": {},
     "output_type": "execute_result"
    }
   ],
   "source": [
    "lasso_weights"
   ]
  },
  {
   "cell_type": "code",
   "execution_count": 26,
   "metadata": {
    "collapsed": false
   },
   "outputs": [
    {
     "name": "stdout",
     "output_type": "stream",
     "text": [
      "1.63049247672e+15\n"
     ]
    }
   ],
   "source": [
    "print sum((predict_output(simple_feature_matrix, lasso_weights) - simple_output)**2)"
   ]
  },
  {
   "cell_type": "code",
   "execution_count": 45,
   "metadata": {
    "collapsed": true
   },
   "outputs": [],
   "source": [
    "all_features = ['constant',\n",
    "                'bedrooms',\n",
    "                'bathrooms',\n",
    "                'sqft_living',\n",
    "                'sqft_lot',\n",
    "                'floors',\n",
    "                'waterfront', \n",
    "                'view', \n",
    "                'condition', \n",
    "                'grade',\n",
    "                'sqft_above',\n",
    "                'sqft_basement',\n",
    "                'yr_built', \n",
    "                'yr_renovated']"
   ]
  },
  {
   "cell_type": "code",
   "execution_count": 46,
   "metadata": {
    "collapsed": false
   },
   "outputs": [],
   "source": [
    "df_train['constant'] = 1\n",
    "df_test['constant'] = 1"
   ]
  },
  {
   "cell_type": "code",
   "execution_count": 47,
   "metadata": {
    "collapsed": true
   },
   "outputs": [],
   "source": [
    "X_train, norms = normalize_features(df_train[all_features].values)"
   ]
  },
  {
   "cell_type": "code",
   "execution_count": 48,
   "metadata": {
    "collapsed": false
   },
   "outputs": [
    {
     "data": {
      "text/plain": [
       "((17384, 14), array([  1.31848398e+02,   4.60040216e+02,   2.96850552e+02,\n",
       "          2.99962419e+05,   5.81709718e+06,   2.09458827e+02,\n",
       "          1.15325626e+01,   1.05933942e+02,   4.57793622e+02,\n",
       "          1.02101959e+03,   2.59726472e+05,   7.01224951e+04,\n",
       "          2.59922094e+05,   5.36953839e+04]))"
      ]
     },
     "execution_count": 48,
     "metadata": {},
     "output_type": "execute_result"
    }
   ],
   "source": [
    "X_train.shape, norms"
   ]
  },
  {
   "cell_type": "code",
   "execution_count": 49,
   "metadata": {
    "collapsed": true
   },
   "outputs": [],
   "source": [
    "y_train = df_train['price'].values"
   ]
  },
  {
   "cell_type": "code",
   "execution_count": 50,
   "metadata": {
    "collapsed": true
   },
   "outputs": [],
   "source": [
    "initial_weights = np.zeros(len(all_features))\n",
    "l1_penalty = 1e7\n",
    "tolerance = 1.0\n",
    "weight1e7 = lasso_cyclical_coordinate_descent(X_train, y_train, initial_weights, l1_penalty, tolerance)"
   ]
  },
  {
   "cell_type": "code",
   "execution_count": 52,
   "metadata": {
    "collapsed": false
   },
   "outputs": [
    {
     "name": "stdout",
     "output_type": "stream",
     "text": [
      "[('constant', 24429600.234403357), ('bedrooms', 0.0), ('bathrooms', 0.0), ('sqft_living', 48389174.771548554), ('sqft_lot', 0.0), ('floors', 0.0), ('waterfront', 3317511.2149216477), ('view', 7329961.8117143344), ('condition', 0.0), ('grade', 0.0), ('sqft_above', 0.0), ('sqft_basement', 0.0), ('yr_built', 0.0), ('yr_renovated', 0.0)]\n"
     ]
    }
   ],
   "source": [
    "print(zip(all_features, weight1e7))"
   ]
  },
  {
   "cell_type": "code",
   "execution_count": 53,
   "metadata": {
    "collapsed": true
   },
   "outputs": [],
   "source": [
    "l1_penalty = 1e8\n",
    "weight1e8 = lasso_cyclical_coordinate_descent(X_train, y_train, initial_weights, l1_penalty, tolerance)"
   ]
  },
  {
   "cell_type": "code",
   "execution_count": 54,
   "metadata": {
    "collapsed": false
   },
   "outputs": [
    {
     "name": "stdout",
     "output_type": "stream",
     "text": [
      "[('constant', 71114625.714887127), ('bedrooms', 0.0), ('bathrooms', 0.0), ('sqft_living', 0.0), ('sqft_lot', 0.0), ('floors', 0.0), ('waterfront', 0.0), ('view', 0.0), ('condition', 0.0), ('grade', 0.0), ('sqft_above', 0.0), ('sqft_basement', 0.0), ('yr_built', 0.0), ('yr_renovated', 0.0)]\n"
     ]
    }
   ],
   "source": [
    "print(zip(all_features, weight1e8))"
   ]
  },
  {
   "cell_type": "code",
   "execution_count": 55,
   "metadata": {
    "collapsed": true
   },
   "outputs": [],
   "source": [
    "l1_penalty = 1e4\n",
    "tolerance = 5e5\n",
    "weight1e4 = lasso_cyclical_coordinate_descent(X_train, y_train, initial_weights, l1_penalty, tolerance)"
   ]
  },
  {
   "cell_type": "code",
   "execution_count": 56,
   "metadata": {
    "collapsed": false
   },
   "outputs": [
    {
     "name": "stdout",
     "output_type": "stream",
     "text": [
      "[('constant', 78564738.341568455), ('bedrooms', -22097398.924305033), ('bathrooms', 12791071.872785015), ('sqft_living', 93808088.092812285), ('sqft_lot', -2013172.7570497463), ('floors', -4219184.9326500716), ('waterfront', 6482842.8175350325), ('view', 7127408.5348068327), ('condition', 5001664.8546971167), ('grade', 14327518.437141208), ('sqft_above', -15770959.152374217), ('sqft_basement', -5159591.2221315317), ('yr_built', -84495341.768439025), ('yr_renovated', 2824439.4970368915)]\n"
     ]
    }
   ],
   "source": [
    "print(zip(all_features, weight1e4))"
   ]
  },
  {
   "cell_type": "code",
   "execution_count": 59,
   "metadata": {
    "collapsed": false
   },
   "outputs": [],
   "source": [
    "normalized_weight1e7 = weight1e7 / norms\n",
    "normalized_weight1e8 = weight1e8 / norms\n",
    "normalized_weight1e4 = weight1e4 / norms"
   ]
  },
  {
   "cell_type": "code",
   "execution_count": 60,
   "metadata": {
    "collapsed": false
   },
   "outputs": [
    {
     "data": {
      "text/plain": [
       "161.31745764611625"
      ]
     },
     "execution_count": 60,
     "metadata": {},
     "output_type": "execute_result"
    }
   ],
   "source": [
    "normalized_weight1e7[3]"
   ]
  },
  {
   "cell_type": "code",
   "execution_count": 61,
   "metadata": {
    "collapsed": true
   },
   "outputs": [],
   "source": [
    "X_test = df_test[all_features].values\n",
    "y_test = df_test['price'].values\n",
    "predict1e7 = predict_output(X_test, normalized_weight1e7)\n",
    "predict1e8 = predict_output(X_test, normalized_weight1e8)\n",
    "predict1e4 = predict_output(X_test, normalized_weight1e4)"
   ]
  },
  {
   "cell_type": "code",
   "execution_count": 63,
   "metadata": {
    "collapsed": false
   },
   "outputs": [
    {
     "name": "stdout",
     "output_type": "stream",
     "text": [
      "RSS weight 1e7: 2.7596207592e+14\n",
      "RSS weight 1e8: 5.37166151497e+14\n",
      "RSS weight 1e4: 2.28459958971e+14\n"
     ]
    }
   ],
   "source": [
    "print \"RSS weight 1e7: \" + str(sum((predict1e7 - y_test)**2))\n",
    "print \"RSS weight 1e8: \" + str(sum((predict1e8 - y_test)**2))\n",
    "print \"RSS weight 1e4: \" + str(sum((predict1e4 - y_test)**2))"
   ]
  },
  {
   "cell_type": "code",
   "execution_count": null,
   "metadata": {
    "collapsed": true
   },
   "outputs": [],
   "source": []
  }
 ],
 "metadata": {
  "kernelspec": {
   "display_name": "Python 2",
   "language": "python",
   "name": "python2"
  },
  "language_info": {
   "codemirror_mode": {
    "name": "ipython",
    "version": 2
   },
   "file_extension": ".py",
   "mimetype": "text/x-python",
   "name": "python",
   "nbconvert_exporter": "python",
   "pygments_lexer": "ipython2",
   "version": "2.7.10"
  }
 },
 "nbformat": 4,
 "nbformat_minor": 0
}
